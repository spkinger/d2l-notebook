{
 "cells": [
  {
   "cell_type": "markdown",
   "id": "34642215",
   "metadata": {},
   "source": [
    "# Deploying Demo for d2lbook\n",
    "\n",
    "This is a demo to deploy on Github."
   ]
  },
  {
   "cell_type": "markdown",
   "id": "3fad3efd",
   "metadata": {},
   "source": [
    ":begin_tab:toc\n",
    " - [get_started](get_started.ipynb)\n",
    ":end_tab:\n"
   ]
  }
 ],
 "metadata": {
  "language_info": {
   "name": "python"
  }
 },
 "nbformat": 4,
 "nbformat_minor": 5
}