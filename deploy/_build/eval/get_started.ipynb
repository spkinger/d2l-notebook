{
 "cells": [
  {
   "cell_type": "markdown",
   "id": "408b21f3",
   "metadata": {},
   "source": [
    "# Getting Started\n",
    "\n",
    "Please first install my favorite package `numpy`."
   ]
  }
 ],
 "metadata": {
  "language_info": {
   "name": "python"
  }
 },
 "nbformat": 4,
 "nbformat_minor": 5
}