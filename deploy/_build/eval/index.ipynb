{
 "cells": [
  {
   "cell_type": "markdown",
   "id": "34642215",
   "metadata": {},
   "source": [
    "# Deploying Demo for d2lbook\n",
    "\n",
    "This is a demo to deploy on Github."
   ]
  },
  {
   "cell_type": "markdown",
   "id": "3fad3efd",
   "metadata": {},
   "source": [
    "````toc\n",
    "get_started\n",
    "````\n"
   ]
  }
 ],
 "metadata": {
  "language_info": {
   "name": "python"
  }
 },
 "nbformat": 4,
 "nbformat_minor": 5
}